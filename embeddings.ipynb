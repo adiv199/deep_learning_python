{
 "cells": [
  {
   "cell_type": "markdown",
   "metadata": {},
   "source": [
    "<h3> Q1 : Word Embeddings </h3>"
   ]
  },
  {
   "cell_type": "code",
   "execution_count": 131,
   "metadata": {
    "collapsed": true
   },
   "outputs": [],
   "source": [
    "import numpy as np\n",
    "import csv\n",
    "import itertools"
   ]
  },
  {
   "cell_type": "markdown",
   "metadata": {},
   "source": [
    "<b>1.1 : Compute Xij </b>"
   ]
  },
  {
   "cell_type": "code",
   "execution_count": 38,
   "metadata": {
    "collapsed": false
   },
   "outputs": [],
   "source": [
    "######################### READ CSV FILE MOVIERATINGS AND GET THE DATA IN APPROPRIATE FORMAT ###################\n",
    "f = open('movieratings.csv')\n",
    "csv_f = csv.reader(f)\n",
    "\n",
    "parsed = (\n",
    "           (int(row[0]),\n",
    "           int(row[1]),\n",
    "           int(row[2]))\n",
    "          for row in csv_f)\n",
    "\n",
    "movierating = []\n",
    "\n",
    "for row in parsed:\n",
    "    movierating.append(row)"
   ]
  },
  {
   "cell_type": "code",
   "execution_count": 39,
   "metadata": {
    "collapsed": false
   },
   "outputs": [],
   "source": [
    "################## WE NEED ONLY THE MOVIES WHICH HAVE LIKES #######################################\n",
    "movierating_likes = [item for item in movierating if item[2] == 1]"
   ]
  },
  {
   "cell_type": "code",
   "execution_count": 41,
   "metadata": {
    "collapsed": false
   },
   "outputs": [],
   "source": [
    "#### CONVERT movierating_likes INTO NUMPY ARRAY FOR FURTHER PROCESSING ###########################\n",
    "movierating_ar = np.array(movierating_likes)\n"
   ]
  },
  {
   "cell_type": "code",
   "execution_count": 43,
   "metadata": {
    "collapsed": false
   },
   "outputs": [],
   "source": [
    "############### get all possible combinations of movies from 1..1682. ######################################\n",
    "############### This is used to calculate the gradient descent over each possible pair.########################\n",
    "no_movies = np.arange(1682)+1\n",
    "#print(no_movies)\n",
    "allmovies = list(itertools.combinations(no_movies,2))\n"
   ]
  },
  {
   "cell_type": "code",
   "execution_count": 44,
   "metadata": {
    "collapsed": false
   },
   "outputs": [],
   "source": [
    "############### get the list of unique user IDs #################################################\n",
    "unique_people = np.unique(movierating_ar[:,1])"
   ]
  },
  {
   "cell_type": "code",
   "execution_count": 9,
   "metadata": {
    "collapsed": false
   },
   "outputs": [
    {
     "name": "stdout",
     "output_type": "stream",
     "text": [
      "942\n"
     ]
    }
   ],
   "source": [
    "### test. Note that one user ID is missing\n",
    "print(len(unique_people))"
   ]
  },
  {
   "cell_type": "markdown",
   "metadata": {
    "collapsed": false
   },
   "source": [
    "<b>Calculate Xij for each reviewer</b>"
   ]
  },
  {
   "cell_type": "code",
   "execution_count": 177,
   "metadata": {
    "collapsed": false
   },
   "outputs": [],
   "source": [
    "\n",
    "######## Initialize a 2D array for Xij. \n",
    "######## The shape of Xij is taken as (1683,1683) so that movie ids from 1-1682 can directly be mapped \n",
    "######## to the respective index of matrix making later computations easier\n",
    "Xij = np.zeros((1683,1683),dtype=np.float64) \n",
    "liked_combos=[]   ## empty list for keeping track of the movie combinations for wach user\n",
    "liked_combos_dict = {}  ## distionary that maps each user to their liked movie combos\n",
    "for reviewer in unique_people:  ## run a loop to get combinations for each user\n",
    "    reviewed_movies = movierating_ar[movierating_ar[:,1]==reviewer]\n",
    "    liked_combos = list(itertools.combinations(reviewed_movies[:,0],2))\n",
    "    liked_combos_dict[reviewer]=liked_combos\n",
    "    for (i,j) in liked_combos:\n",
    "        Xij[i][j]+=1 ## increment the count in Xij symmetrically.\n",
    "        Xij[j][i]+=1\n",
    "        \n",
    "                "
   ]
  },
  {
   "cell_type": "code",
   "execution_count": 194,
   "metadata": {
    "collapsed": false
   },
   "outputs": [],
   "source": [
    "####### Compute the cost function for each movie vector ##############\n",
    "def computediff(vi,vj,xij):\n",
    "    diff = (np.dot(vi,vj)-xij)\n",
    "    #print(type(diff))\n",
    "    return diff;\n",
    "\n"
   ]
  },
  {
   "cell_type": "markdown",
   "metadata": {},
   "source": [
    "<b>1.2 Run Gradient Descent with initial values as vector of 0s and vector of random number between -0.7,0.7</b>"
   ]
  },
  {
   "cell_type": "code",
   "execution_count": 256,
   "metadata": {
    "collapsed": false
   },
   "outputs": [],
   "source": [
    "############# DEFINE VECTOR WITH RANDOM VALUES BETWEEN -0.7 AND +0.7. lENGTH 40 ############################\n",
    "vivj_rand = np.random.uniform(-0.7,0.7,(1683,40))"
   ]
  },
  {
   "cell_type": "code",
   "execution_count": 386,
   "metadata": {
    "collapsed": true
   },
   "outputs": [],
   "source": [
    "################ Define vectors with values 0 ##########################################\n",
    "vivj_zeros = np.zeros((1683,20))\n"
   ]
  },
  {
   "cell_type": "code",
   "execution_count": 215,
   "metadata": {
    "collapsed": true
   },
   "outputs": [],
   "source": [
    "################### Calculate Gradients for Gradient Descent ##############################\n",
    "\n",
    "def find_gradients(vi_current,vj_current,xij):\n",
    "    \n",
    "    learning_rate = 0.0001;\n",
    "    \n",
    "    #np.seterr(all='print')\n",
    "    vi_gradient = np.round(2*vj_current*computediff(vi_current,vj_current,xij),decimals=8)\n",
    "    vj_gradient = np.round(2*vi_current*computediff(vi_current,vj_current,xij),decimals=8)\n",
    "    #print(\"vigrad\",vi_gradient)\n",
    "    #print(\"vjgrad\",vj_gradient)\n",
    "\n",
    "    vi_current  = vi_current - np.round((learning_rate * vi_gradient),decimals=8)\n",
    "    vj_current = vj_current - np.round((learning_rate * vj_gradient),decimals=8)\n",
    "    \n",
    "    return [vi_current,vj_current]"
   ]
  },
  {
   "cell_type": "code",
   "execution_count": 205,
   "metadata": {
    "collapsed": false
   },
   "outputs": [],
   "source": [
    "############ Compute total cost over all movie vectors as per cost function ########\n",
    "def compute_total_cost(vec, d_mat):\n",
    "    total_cost = 0;\n",
    "    for i in range(1,1682):\n",
    "        for j in range(i,1682):\n",
    "            if(i!=j):\n",
    "                cost = np.round(computediff(vec[i],vec[j],d_mat[i][j])**2)\n",
    "                total_cost = total_cost+cost\n",
    "    return total_cost\n",
    "        "
   ]
  },
  {
   "cell_type": "code",
   "execution_count": 385,
   "metadata": {
    "collapsed": false
   },
   "outputs": [],
   "source": [
    "################## RUN GRADIENT DESCENT....\n",
    "################# FOR VECTOR WITH INITIAL VALUES 0, RAN 100 ITERATIONS\n",
    "################ FOR VECTOR WITH RANDOM VALUES, RAN 200 ITERATIONS. THE RESULTING VECTORS WERE USED FOR SIMILARITY CALCULATION\n",
    "def run_gradient_descent(vec_init):\n",
    "    \n",
    "    #v_gradient= np.zeros((1683,20),dtype=np.float64)\n",
    "    #vj_gradient=np.zeros((20,),dtype=np.float64)\n",
    "    \n",
    "    plot_cost = [] # list for storing costs and iteration no.\n",
    "    iteration = 0; \n",
    "    #vec_init_new = np.zeros((1683,20),dtype=np.float64)\n",
    "    vec_init_new = np.array(vec_init)\n",
    "    while (iteration < 100):\n",
    "        iteration+=1;\n",
    "        cost_init = compute_total_cost(vec_init_new, Xij) #compute the total cost function for each vector\n",
    "        #print(iteration,\"::\",cost_init)\n",
    "        #print(vec_init_new[45,:])\n",
    "        plot_cost.append((iteration,cost_init)) #append cost and iteration no. for plotting\n",
    "        \n",
    "        for movie_pair in allmovies:\n",
    "            #find gradients and assign the newly calculated vectors to vec_init_new\n",
    "            new_vi,new_vj = find_gradients(np.array(vec_init_new[movie_pair[0]]),np.array(vec_init_new[movie_pair[1]]),Xij[movie_pair[0]][movie_pair[1]])\n",
    "            vec_init_new[movie_pair[0]]=new_vi\n",
    "            vec_init_new[movie_pair[1]]=new_vj\n",
    "        nan_found = np.isnan(vec_init_new)\n",
    "        vec_init_new[nan_found]=0\n",
    "        #print(vec_init_new)\n",
    "    return [plot_cost,vec_init_new]\n",
    "                    \n",
    "        "
   ]
  },
  {
   "cell_type": "code",
   "execution_count": null,
   "metadata": {
    "collapsed": false
   },
   "outputs": [],
   "source": [
    "########### run gradient descent on vector having random value\n",
    "cp,final_vector = run_gradient_descent(vivj_rand)\n",
    "#print(cp)"
   ]
  },
  {
   "cell_type": "code",
   "execution_count": null,
   "metadata": {
    "collapsed": false
   },
   "outputs": [],
   "source": [
    "########## run gradient descent on vector having intial values as zero.\n",
    "\n",
    "zero_cp,final_vector_zero = run_gradient_descent(vivj_zeros)"
   ]
  },
  {
   "cell_type": "code",
   "execution_count": null,
   "metadata": {
    "collapsed": false
   },
   "outputs": [],
   "source": [
    "############# JUST ASSIGNING ANOTHER VALUE SO THAT final_vector is not overwritten ################\n",
    "vector_op = np.array(final_vector)"
   ]
  },
  {
   "cell_type": "code",
   "execution_count": 389,
   "metadata": {
    "collapsed": false
   },
   "outputs": [
    {
     "data": {
      "image/png": "[encoded data removed]",
      "text/plain": [
       "<matplotlib.figure.Figure at 0x854d57d4a8>"
      ]
     },
     "metadata": {},
     "output_type": "display_data"
    }
   ],
   "source": [
    "############## plot for initial vectors as zeros\n",
    "mp.plot([t[0] for t in zero_cp],[t[1] for t in zero_cp])\n",
    "mp.show()"
   ]
  },
  {
   "cell_type": "code",
   "execution_count": 266,
   "metadata": {
    "collapsed": false
   },
   "outputs": [
    {
     "data": {
      "image/png": "[encoded data removed]",
      "text/plain": [
       "<matplotlib.figure.Figure at 0x8540385358>"
      ]
     },
     "metadata": {},
     "output_type": "display_data"
    }
   ],
   "source": [
    "#plot loss as a function of iterations.... this is for vector containing random variables\n",
    "\n",
    "import matplotlib.pyplot as mp\n",
    "mp.plot([t[0] for t in cp],[t[1] for t in cp])\n",
    "mp.show()"
   ]
  },
  {
   "cell_type": "markdown",
   "metadata": {},
   "source": [
    "<b>1.3 Movie Similarity calculation </b>"
   ]
  },
  {
   "cell_type": "code",
   "execution_count": 270,
   "metadata": {
    "collapsed": false
   },
   "outputs": [],
   "source": [
    "##################### READ MOVIE ID - MOVIE NAME MAPPING TO A LIST FOR RECOMMENDTION #######################\n",
    "f1 = open('movies.csv')\n",
    "csv_f1 = csv.reader(f1,delimiter='|')\n",
    "\n",
    "parsed1 = (\n",
    "           (int(row[0]),\n",
    "           row[1].split(' (')[0])\n",
    "          for row in csv_f1)\n",
    "\n",
    "movie_names = []\n",
    "\n",
    "for row in parsed1:\n",
    "    movie_names.append(row)"
   ]
  },
  {
   "cell_type": "markdown",
   "metadata": {},
   "source": [
    "<b> 1.3 Movies similar to Aladdin. Have used cosine similarity here to calculate the similarity of each movie to movie Aladdin.Considered the top 10 movies with highest similarity measures for recommendation</b>"
   ]
  },
  {
   "cell_type": "code",
   "execution_count": 278,
   "metadata": {
    "collapsed": false
   },
   "outputs": [],
   "source": [
    "#get movie id for Aladdin....\n",
    "mov = [id[0] for id in movie_names if id[1]=='Aladdin'][0]"
   ]
  },
  {
   "cell_type": "code",
   "execution_count": 284,
   "metadata": {
    "collapsed": false
   },
   "outputs": [],
   "source": [
    "################### using cosine similarity function from scipy package\n",
    "import scipy.spatial.distance as cosd"
   ]
  },
  {
   "cell_type": "code",
   "execution_count": 303,
   "metadata": {
    "collapsed": false
   },
   "outputs": [],
   "source": [
    "################### list of similarity measures to Aladdin\n",
    "Aladdin_similar = []\n",
    "for i in range(1,1682):\n",
    "    if(i!=mov):\n",
    "        Aladdin_similar.append((i,cosd.cosine(vector_op[mov],vector_op[i])))\n",
    "    "
   ]
  },
  {
   "cell_type": "code",
   "execution_count": 311,
   "metadata": {
    "collapsed": false
   },
   "outputs": [],
   "source": [
    "############################ Sort the above cosine similarity list in descending order of cosine similarity\n",
    "def getKey(item):\n",
    "    return item[1]\n",
    "Aladdin_similar_sorted = sorted(Aladdin_similar,key=getKey,reverse=True)"
   ]
  },
  {
   "cell_type": "code",
   "execution_count": 322,
   "metadata": {
    "collapsed": false
   },
   "outputs": [
    {
     "name": "stdout",
     "output_type": "stream",
     "text": [
      "[1329, 314, 1246, 1523, 1254, 1371, 1382, 1661, 1250, 1236]\n"
     ]
    }
   ],
   "source": [
    "############################### Get top 10 movies similar to Aladdin\n",
    "sim_movies = [t[0] for t in Aladdin_similar_sorted[:10]]\n",
    "#print(sim_movies)"
   ]
  },
  {
   "cell_type": "code",
   "execution_count": 345,
   "metadata": {
    "collapsed": false
   },
   "outputs": [
    {
     "name": "stdout",
     "output_type": "stream",
     "text": [
      "[(1329, 'Low Life, The')]\n",
      "[(314, '3 Ninjas: High Noon At Mega Mountain')]\n",
      "[(1246, 'Bushwhacked')]\n",
      "[(1523, 'Good Man in Africa, A')]\n",
      "[(1254, \"Gone Fishin'\")]\n",
      "[(1371, 'Machine, The')]\n",
      "[(1382, 'Bonheur, Le')]\n",
      "[(1661, 'New Age, The')]\n",
      "[(1250, 'Best of the Best 3: No Turning Back')]\n",
      "[(1236, 'Other Voices, Other Rooms')]\n"
     ]
    }
   ],
   "source": [
    "############################### Get the names of top 10 movies similar to Aladdin\n",
    "for i in range(0,len(sim_movies)):\n",
    "    print([m for m in movie_names if m[0]==sim_movies[i]])"
   ]
  },
  {
   "cell_type": "markdown",
   "metadata": {},
   "source": [
    "<p><b>1.4 Movies recommended given both Home Alone and Toy Story. The recommendation strategy followed is as follows:\n",
    "<li><ul> Get the top ten movies for each of Home Alone and Toy Story using cosine Similarity measure\n",
    "<ul> Get similarity measure for each of Toy Story's top ten movies with Home Alone\n",
    "<ul> Get similarity measure for each of Home Alone's top ten movies with Toy Story\n",
    "<ul> append the above two similarity measures and get the top ten. Recommend these movies."
   ]
  },
  {
   "cell_type": "code",
   "execution_count": 346,
   "metadata": {
    "collapsed": true
   },
   "outputs": [],
   "source": [
    "############################## find movie ids for toy story and home alone\n",
    "\n",
    "toystory = [id[0] for id in movie_names if id[1]=='Toy Story'][0]\n",
    "homealone = [id[0] for id in movie_names if id[1]=='Home Alone'][0]"
   ]
  },
  {
   "cell_type": "code",
   "execution_count": 352,
   "metadata": {
    "collapsed": true
   },
   "outputs": [],
   "source": [
    "########################## Get similarity measures of all movies with Toy Story and Home Alone\n",
    "toystory_similar = []\n",
    "homealone_similar = []\n",
    "for i in range(1,1682):\n",
    "    if(i!=toystory):\n",
    "        toystory_similar.append((i,cosd.cosine(vector_op[toystory],vector_op[i])))\n",
    "\n",
    "for i in range(1,1682):\n",
    "    if(i!=homealone):\n",
    "        homealone_similar.append((i,cosd.cosine(vector_op[homealone],vector_op[i])))\n",
    "\n",
    "        "
   ]
  },
  {
   "cell_type": "code",
   "execution_count": 353,
   "metadata": {
    "collapsed": false
   },
   "outputs": [
    {
     "name": "stdout",
     "output_type": "stream",
     "text": [
      "[1679, 1461, 1569, 1586, 1681, 1553, 1246, 1380, 1673, 1551]\n",
      "[912, 1461, 852, 598, 1106, 1528, 1437, 677, 1270, 1622]\n"
     ]
    }
   ],
   "source": [
    "##########################3 sort toy story and home alone\n",
    "toystory_similar_sorted = sorted(toystory_similar,key=getKey,reverse=True)\n",
    "homealone_similar_sorted = sorted(homealone_similar,key=getKey,reverse=True)\n",
    "\n",
    "# get the top ten for each movie\n",
    "sim_movies_toystory = [t[0] for t in toystory_similar_sorted[:10]]\n",
    "sim_movies_homealone = [t[0] for t in homealone_similar_sorted[:10]]\n",
    "\n",
    "print(sim_movies_toystory)\n",
    "print(sim_movies_homealone)"
   ]
  },
  {
   "cell_type": "code",
   "execution_count": 376,
   "metadata": {
    "collapsed": true
   },
   "outputs": [],
   "source": [
    "################################# calculate cross similarities between both sets. \n",
    "#################################Toy Story with movies recommended for home alone and vice versa.\n",
    "\n",
    "sim_to_homealoneRec = []\n",
    "for i in sim_movies_homealone:\n",
    "    sim_to_homealoneRec.append((i,cosd.cosine(vector_op[toystory],vector_op[i])))\n",
    "    \n",
    "sim_to_toystoryrec = []\n",
    "for i in sim_movies_toystory:\n",
    "    sim_to_toystoryrec.append((i,cosd.cosine(vector_op[homealone],vector_op[i])))\n",
    "    "
   ]
  },
  {
   "cell_type": "code",
   "execution_count": 377,
   "metadata": {
    "collapsed": false
   },
   "outputs": [],
   "source": [
    "##################### Sort\n",
    "sorted_homealone_f = sorted(sim_to_homealoneRec,key = getKey,reverse=True)\n",
    "sorted_toystory_f = sorted(sim_to_toystoryrec,key = getKey,reverse=True)"
   ]
  },
  {
   "cell_type": "code",
   "execution_count": 380,
   "metadata": {
    "collapsed": false
   },
   "outputs": [],
   "source": [
    "top_ten = []\n",
    "top_ten.append([t[0] for t in sorted_homealone_f[:6]])\n",
    "top_ten.append([t[0] for t in sorted_toystory_f[:6]])"
   ]
  },
  {
   "cell_type": "code",
   "execution_count": 381,
   "metadata": {
    "collapsed": false
   },
   "outputs": [
    {
     "data": {
      "text/plain": [
       "[[1461, 1270, 1528, 677, 1437, 852], [1461, 1586, 1569, 1673, 1246, 1553]]"
      ]
     },
     "execution_count": 381,
     "metadata": {},
     "output_type": "execute_result"
    }
   ],
   "source": [
    "top_ten"
   ]
  },
  {
   "cell_type": "code",
   "execution_count": 382,
   "metadata": {
    "collapsed": true
   },
   "outputs": [],
   "source": [
    "top_t = top_ten[0]+top_ten[1]"
   ]
  },
  {
   "cell_type": "code",
   "execution_count": 394,
   "metadata": {
    "collapsed": false
   },
   "outputs": [
    {
     "name": "stdout",
     "output_type": "stream",
     "text": [
      "[(1461, 'Here Comes Cookie')]\n",
      "[(1270, 'Life with Mikey')]\n",
      "[(1528, 'Nowhere')]\n",
      "[(677, 'Fire on the Mountain')]\n",
      "[(1437, 'House Party 3')]\n",
      "[(852, 'Bloody Child, The')]\n",
      "[(1461, 'Here Comes Cookie')]\n",
      "[(1586, 'Lashou shentan')]\n",
      "[(1569, 'Vie est belle, La')]\n",
      "[(1673, 'Mirage')]\n",
      "[(1246, 'Bushwhacked')]\n",
      "[(1553, 'Underneath, The')]\n"
     ]
    }
   ],
   "source": [
    "#################### Top ten recommendations for Home Alone and Toy Story\n",
    "for i in range(0,len(top_t)):\n",
    "    print([m for m in movie_names if m[0]==top_t[i]])"
   ]
  },
  {
   "cell_type": "code",
   "execution_count": null,
   "metadata": {
    "collapsed": true
   },
   "outputs": [],
   "source": []
  }
 ],
 "metadata": {
  "anaconda-cloud": {},
  "kernelspec": {
   "display_name": "Python [default]",
   "language": "python",
   "name": "python3"
  },
  "language_info": {
   "codemirror_mode": {
    "name": "ipython",
    "version": 3
   },
   "file_extension": ".py",
   "mimetype": "text/x-python",
   "name": "python",
   "nbconvert_exporter": "python",
   "pygments_lexer": "ipython3",
   "version": "3.5.2"
  }
 },
 "nbformat": 4,
 "nbformat_minor": 1
}
