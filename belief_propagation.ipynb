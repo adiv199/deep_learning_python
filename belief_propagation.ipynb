{
 "cells": [
  {
   "cell_type": "markdown",
   "metadata": {},
   "source": [
    "<h3> Q8 Draw factor graph using networkx and run the sum product algorithm</h3>"
   ]
  },
  {
   "cell_type": "code",
   "execution_count": 74,
   "metadata": {
    "collapsed": true
   },
   "outputs": [],
   "source": [
    "import networkx as nx"
   ]
  },
  {
   "cell_type": "code",
   "execution_count": 80,
   "metadata": {
    "collapsed": true
   },
   "outputs": [],
   "source": [
    "import numpy as np\n",
    "import matplotlib.pyplot as plt"
   ]
  },
  {
   "cell_type": "code",
   "execution_count": 10,
   "metadata": {
    "collapsed": false
   },
   "outputs": [],
   "source": [
    "import itertools as it"
   ]
  },
  {
   "cell_type": "markdown",
   "metadata": {},
   "source": [
    "<b> Used classes to represent a Variable and a Factor as follows: </b>"
   ]
  },
  {
   "cell_type": "code",
   "execution_count": 75,
   "metadata": {
    "collapsed": true
   },
   "outputs": [],
   "source": [
    "class Variable:\n",
    "    def __init__(self,name,support):\n",
    "        self.name = name\n",
    "        self.support = support\n",
    "\n"
   ]
  },
  {
   "cell_type": "code",
   "execution_count": 76,
   "metadata": {
    "collapsed": true
   },
   "outputs": [],
   "source": [
    "class Factor:\n",
    "    def __init__(self,factname,variables):\n",
    "        self.factname = factname\n",
    "        self.variables=variables\n",
    "    \n",
    "    def calc_value(self,expr):\n",
    "        \n",
    "        var_support = [(x.name,x.support) for x in self.variables] ##### get name and support of each variable\n",
    "        sets = list(it.product(*[t[1] for t in var_support])) ##### get all possible combinations of variable domains\n",
    "        expr_eval = list(expr) ###### the expression to evaluate is string. Change it to a list\n",
    "        dict_fact_values = {}  ###### dictionary for storing factor calc values\n",
    "        expr_et = list(expr_eval) \n",
    "        for combo in sets:     #### For each combination of support variables, evaluate the expression\n",
    "            j=0\n",
    "            for i in range(0,len(expr_eval)):\n",
    "                if expr_eval[i].isalpha():\n",
    "                    expr_et[i] = expr_eval[i].replace(expr_eval[i],str(combo[j]))\n",
    "                    j+=1\n",
    "            dict_fact_values[combo]=eval(''.join(expr_et))\n",
    "        \n",
    "        return dict_fact_values\n",
    "        "
   ]
  },
  {
   "cell_type": "code",
   "execution_count": 77,
   "metadata": {
    "collapsed": true
   },
   "outputs": [],
   "source": [
    "## Create variables ... objects of class Variable... provide support for vairables\n",
    "A=Variable(\"a\",[1,2])\n",
    "B=Variable(\"b\",[1,2])\n",
    "C=Variable(\"c\",[1,2])\n",
    "D=Variable(\"d\",[1,2])\n",
    "E=Variable(\"e\",[1,2])"
   ]
  },
  {
   "cell_type": "code",
   "execution_count": 78,
   "metadata": {
    "collapsed": true
   },
   "outputs": [],
   "source": [
    "#Create factors... objects of class Factor.. provide the variables which are required to calculate factors\n",
    "\n",
    "F1=Factor(\"f1\",[A,B])\n",
    "F2=Factor(\"f2\",[B,C,D])\n",
    "F3=Factor(\"f3\",[C])\n",
    "F4=Factor(\"f4\",[D,E])\n",
    "F5=Factor(\"f5\",[D])"
   ]
  },
  {
   "cell_type": "code",
   "execution_count": 110,
   "metadata": {
    "collapsed": false
   },
   "outputs": [],
   "source": [
    "#### Create a bipartite graph with variables and factors using networkx\n",
    "\n",
    "\n",
    "factor_graph = nx.Graph()\n",
    "factor_graph.add_nodes_from([F1,F2,F3,F4,F5], bipartite=0) # Add the node attribute \"bipartite\"\n",
    "factor_graph.add_nodes_from([A,B,C,D,E], bipartite=1)\n",
    "factor_graph.add_edges_from([(A,F1),(B,F1),(B,F2),(C,F2),(D,F2),(C,F3),(D,F5),(D,F4),(E,F4)])\n"
   ]
  },
  {
   "cell_type": "code",
   "execution_count": 123,
   "metadata": {
    "collapsed": false
   },
   "outputs": [],
   "source": [
    "labeldict={}\n",
    "color_map = []\n",
    "for n in factor_graph:\n",
    "        if type(n) is Variable:\n",
    "            labeldict[n]=n.name\n",
    "            color_map.append('blue')\n",
    "        else:\n",
    "            labeldict[n]=n.factname\n",
    "            color_map.append('green')"
   ]
  },
  {
   "cell_type": "code",
   "execution_count": 124,
   "metadata": {
    "collapsed": false
   },
   "outputs": [
    {
     "data": {
      "image/png": "[encoded data removed]",
      "text/plain": [
       "<matplotlib.figure.Figure at 0x3843a554e0>"
      ]
     },
     "metadata": {},
     "output_type": "display_data"
    }
   ],
   "source": [
    "nx.draw(factor_graph, node_color=color_map, labels=labeldict, with_labels=True)\n",
    "plt.show()"
   ]
  },
  {
   "cell_type": "code",
   "execution_count": 125,
   "metadata": {
    "collapsed": true
   },
   "outputs": [],
   "source": [
    "################ Calculate factor values for each factor.\n",
    "\n",
    "f1_values = F1.calc_value(\"a*b\")\n",
    "f2_values = F2.calc_value(\"2*(5-b*c)-d+1\")\n",
    "f3_values = F3.calc_value(\"3-c\")\n",
    "f4_values = F4.calc_value(\"d*e\")\n",
    "f5_values = F5.calc_value(\"3-d\")"
   ]
  },
  {
   "cell_type": "markdown",
   "metadata": {},
   "source": [
    "Next steps:\n",
    "---- Use Tree data structure. Designate node \"B\" as root of a tree\n",
    "---- implement message passing from leaves to root and back\n",
    "---- calculate marginal probablities."
   ]
  },
  {
   "cell_type": "markdown",
   "metadata": {},
   "source": [
    "<b> If sum product is repeated for every single node, the complexity of the algorithm becomes O(N^2)\n",
    "If a tree data structure is used, the computation of messages will take O(N) running time complexity.\n",
    "Also the calculation of marginals will require O(N). Thus total running time will be O(N)+O(N) = O(N)</b>"
   ]
  }
 ],
 "metadata": {
  "kernelspec": {
   "display_name": "Python [default]",
   "language": "python",
   "name": "python3"
  },
  "language_info": {
   "codemirror_mode": {
    "name": "ipython",
    "version": 3
   },
   "file_extension": ".py",
   "mimetype": "text/x-python",
   "name": "python",
   "nbconvert_exporter": "python",
   "pygments_lexer": "ipython3",
   "version": "3.5.2"
  }
 },
 "nbformat": 4,
 "nbformat_minor": 1
}
